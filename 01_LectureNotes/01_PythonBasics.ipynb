{
 "cells": [
  {
   "cell_type": "markdown",
   "metadata": {},
   "source": [
    "#  Basics of Python and Object-Oriented Programming\n",
    "\n",
    "Python version: 3.13.1"
   ]
  },
  {
   "cell_type": "markdown",
   "metadata": {},
   "source": [
    "## 1. Introduction to Python\n",
    "\n",
    "### History\n",
    "- **Created in 1991** by Guido van Rossum, named after *Monty Python’s Flying Circus*.\n",
    "- Designed to be **simple, readable, and versatile**, with syntax close to human language.\n",
    "- Evolved from a general-purpose scripting language into a leading tool for **scientific computing, machine learning, and data science**.\n",
    "\n",
    "### Use in Economics\n",
    "- Traditionally, economists relied on **Stata, R, and MATLAB**.\n",
    "- Python has become popular because of:\n",
    "  - **Libraries**: `pandas` for data wrangling, `statsmodels` for econometrics, `scikit-learn` for ML, `linearmodels` for panel data.\n",
    "  - **Integration**: Works well with SQL, Excel, and web scraping tools.\n",
    "  - **Open-source**: Freely available with large community support.\n",
    "- **Recent significance**:\n",
    "  - Widely used in **policy institutions** (e.g., World Bank, IMF) and **competition authorities** (e.g., European Commission, PCC).\n",
    "  - Important in handling **big data** and **causal inference** beyond traditional econometrics.\n",
    "  - Increasingly common in **academic publications** for replicability.\n",
    "\n",
    "  ---\n",
    "\n",
    "## 2. Introduction to Integrated Development Environments (IDEs)\n",
    "\n",
    "### What is an IDE?\n",
    "- A software environment that helps you **write, test, and debug code**.\n",
    "- Provides features such as:\n",
    "  - Syntax highlighting\n",
    "  - Autocomplete\n",
    "  - Debugging tools\n",
    "  - File and project management\n",
    "\n",
    "### Popular IDEs for Python\n",
    "- **PyCharm** – full-featured, but heavy.\n",
    "- **Spyder** – R-like, good for scientific users.\n",
    "- **Jupyter Notebook/Lab** – interactive and uses browser.\n",
    "- **Visual Studio Code (VS Code)** – **recommended**:\n",
    "  - Lightweight but powerful.\n",
    "  - Extensions for Python (`ms-python.python`), Jupyter, GitHub, LaTeX, etc.\n",
    "  - Great for both **econometrics-style analysis** and **software-style projects**.\n",
    "  - Easily integrates with **virtual environments** and **conda**.\n",
    "\n",
    "---\n",
    "\n",
    "## 3. Introduction to Jupyter Notebooks\n",
    "\n",
    "### What is Jupyter?\n",
    "- **Browser-based interactive coding environment**.\n",
    "- Originally part of IPython project.\n",
    "- Supports **Python, R, Julia**, and more.\n",
    "- Widely used in **data science education and research**.\n",
    "\n",
    "### Features\n",
    "- Organizes work into **cells**:\n",
    "  - *Code cells*: execute Python code.\n",
    "  - *Markdown cells*: write notes, math (LaTeX), documentation.\n",
    "- Produces **reproducible research notebooks**.\n",
    "- Allows integration of **data, code, and results** in one document.\n",
    "- Popular in academia and industry because it combines **analysis + narrative**.\n",
    "- Makes nice documentation for reports and presentations.\n",
    "\n",
    "---\n",
    "## 4. Setting Up Your Environment\n",
    "\n",
    "### What is an Environment?\n",
    "- An **isolated workspace** that contains its own:\n",
    "  - Python version\n",
    "  - Packages and dependencies\n",
    "- Prevents conflicts between projects (e.g., one project uses `numpy 1.23`, another needs `numpy 1.25`).\n",
    "\n",
    "\n",
    "### Tools for Environment Management\n",
    "- **conda** (from Anaconda/Miniconda)\n",
    "  - Popular for data science.\n",
    "  - Manages both Python packages and system libraries.\n",
    "- **venv** (built-in to Python)\n",
    "  - Lightweight virtual environment tool.\n",
    "- **pip** \n",
    "  - Default Python package installer, often used inside virtual environments.\n",
    "\n",
    "For Visual Studio Code, you can easily create and manage environments using the terminal using conda or venv commands.\n"
   ]
  },
  {
   "cell_type": "markdown",
   "metadata": {},
   "source": [
    "# Fundamentals of Python Programming\n",
    "\n",
    "## Basic Syntax and Data Types\n",
    "\n",
    "### Variables\n",
    "- Variables are used to store data values.\n",
    "- They are created by assigning a value to them.\n",
    "\n",
    "#### vs Stata\n",
    "- In Stata, variables are created by loading data into memory, while in Python, variables are created by assigning a value to them.\n",
    "- You can assign any type of value to a variable in Python, while in Stata, variables are assigned a specific type of value.\n",
    "\n",
    "#### vs R\n",
    "- In R, variables are created by assigning a value to them, similar to Python.\n",
    "- You can assign any type of value to a variable in Python, while in R, variables are assigned a specific type of value."
   ]
  },
  {
   "cell_type": "code",
   "execution_count": 19,
   "metadata": {},
   "outputs": [],
   "source": [
    "a = 10\n",
    "b = 3.14\n",
    "c = \"Hello\"\n",
    "d = True"
   ]
  },
  {
   "cell_type": "markdown",
   "metadata": {},
   "source": [
    "### Data Types\n",
    "- Python has the following data types:\n",
    "    - Text Type: `str`\n",
    "    - Numeric Types: \n",
    "        - `int` - Integer\n",
    "        - `float` - Floating Point Number (Decimal)\n",
    "        - `complex` - Complex Number (Real and Imaginary)\n",
    "    - Sequence Types: \n",
    "        - `list` -  list is an ordered and mutable collection of items commonly used to store related pieces of information\n",
    "        - `tuple` -  tuple is an ordered and immutable collection of items commonly used to store related pieces of information, but unlike lists, tuples are immutable and cannot be changed\n",
    "        -  `range` - range are immutable sequences of numbers that are commonly used in for loops\n",
    "    - Mapping Type: `dict` - dictionary is an unordered and mutable collection of key-value pairs\n",
    "    - Set Types: \n",
    "        - `set` - set is an unordered and mutable collection of unique items but unlike lists and tuples, sets do not allow duplicate elements\n",
    "        - `frozenset` - frozenset is an unordered and immutable collection of unique items but unlike sets, frozensets are immutable and cannot be changed\n",
    "    - Boolean Type: `bool` - used to represent the truth values of logic and can only be either `True` or `False`\n",
    "    - Binary Types: \n",
    "        - `bytes` \n",
    "        - `bytearray`\n",
    "        - `memoryview`"
   ]
  },
  {
   "cell_type": "code",
   "execution_count": 20,
   "metadata": {},
   "outputs": [
    {
     "name": "stdout",
     "output_type": "stream",
     "text": [
      "<class 'int'>\n",
      "<class 'float'>\n",
      "<class 'str'>\n",
      "<class 'bool'>\n"
     ]
    }
   ],
   "source": [
    "# print the type of each variable\n",
    "print(type(a))\n",
    "print(type(b))\n",
    "print(type(c))\n",
    "print(type(d))"
   ]
  },
  {
   "cell_type": "markdown",
   "metadata": {},
   "source": [
    "### Control Structures\n",
    "\n",
    "#### Conditional Statements\n",
    "- Conditional statements are used to execute a block of code based on a condition.\n",
    "- Unlike stata\n",
    "    - Python uses indentation to define code blocks\n",
    "    - conditional logic are embedded in the command options in Stata, while in Python, they are separate statements\n",
    "- Unlike in R\n",
    "    - Python uses `elif` instead of `else if` to define multiple conditions while in R\n",
    "    - Python uses `:` to define code blocks while in R, it uses `{}`"
   ]
  },
  {
   "cell_type": "code",
   "execution_count": 21,
   "metadata": {},
   "outputs": [
    {
     "name": "stdout",
     "output_type": "stream",
     "text": [
      "a is greater than 5\n"
     ]
    }
   ],
   "source": [
    "if a > 5:\n",
    "    print(\"a is greater than 5\")\n",
    "else:\n",
    "    print(\"a is not greater than 5\")"
   ]
  },
  {
   "cell_type": "markdown",
   "metadata": {},
   "source": [
    "Note: consistent indentation is important in Python\n"
   ]
  },
  {
   "cell_type": "markdown",
   "metadata": {},
   "source": [
    "#### Loops\n",
    "- Loops are used to iterate over a sequence of items.\n",
    "- Python has two types of loops:\n",
    "    - `for` loop\n",
    "    - `while` loop\n",
    "\n",
    "- `for` loop\n",
    "    - `for` loop is used to iterate over a sequence of items.\n",
    " "
   ]
  },
  {
   "cell_type": "code",
   "execution_count": 22,
   "metadata": {},
   "outputs": [
    {
     "name": "stdout",
     "output_type": "stream",
     "text": [
      "0\n",
      "1\n",
      "2\n",
      "3\n",
      "4\n"
     ]
    }
   ],
   "source": [
    "for i in range(5):\n",
    "    print(i)"
   ]
  },
  {
   "cell_type": "markdown",
   "metadata": {},
   "source": [
    "Note: Python starts counting from 0\n",
    "\n",
    "- `while` loop\n",
    "    - `while` loop is used to execute a block of code as long as a condition is true."
   ]
  },
  {
   "cell_type": "code",
   "execution_count": 24,
   "metadata": {},
   "outputs": [],
   "source": [
    "while a < 15:\n",
    "    print(a)\n",
    "    a += 1"
   ]
  },
  {
   "cell_type": "markdown",
   "metadata": {},
   "source": [
    "The main difference between `for` and `while` loops is that `for` loops are used when the number of iterations is known, while `while` loops are used when the number of iterations is unknown.\n",
    "\n",
    "Be careful with `while` loops as they can run indefinitely if the condition is always true."
   ]
  },
  {
   "cell_type": "markdown",
   "metadata": {},
   "source": [
    "## Data Structures\n",
    "\n",
    "#### Lists\n",
    "- mutable, ordered collection of items\n",
    "- created using square brackets `[]`\n",
    "- can contain items of different data types\n",
    "- compared to R, lists are similar to vectors in R, but python can contain items of different data types"
   ]
  },
  {
   "cell_type": "code",
   "execution_count": 25,
   "metadata": {},
   "outputs": [
    {
     "name": "stdout",
     "output_type": "stream",
     "text": [
      "['apple', 'banana', 'cherry']\n"
     ]
    }
   ],
   "source": [
    "fruits = [\"apple\", \"banana\", \"cherry\"]\n",
    "print(fruits)"
   ]
  },
  {
   "cell_type": "code",
   "execution_count": 26,
   "metadata": {},
   "outputs": [
    {
     "data": {
      "text/plain": [
       "['apple', 'banana', 'cherry', 'orange']"
      ]
     },
     "execution_count": 26,
     "metadata": {},
     "output_type": "execute_result"
    }
   ],
   "source": [
    "fruits.append(\"orange\")\n",
    "fruits"
   ]
  },
  {
   "cell_type": "code",
   "execution_count": 27,
   "metadata": {},
   "outputs": [
    {
     "name": "stdout",
     "output_type": "stream",
     "text": [
      "apple\n",
      "banana\n",
      "cherry\n",
      "orange\n"
     ]
    }
   ],
   "source": [
    "# You can also loop through a list\n",
    "for fruit in fruits:\n",
    "    print(fruit)"
   ]
  },
  {
   "cell_type": "markdown",
   "metadata": {},
   "source": [
    "#### Tuples\n",
    "- immutable, ordered collection of items\n",
    "- created using parentheses `()` or `tuple()` function\n",
    "- can contain items of different data types\n",
    "- R nor Stata does not have a direct equivalent to tuples\n",
    "- tuples are used to store related pieces of information that should not be changed or modified such as dates, coordinates, etc."
   ]
  },
  {
   "cell_type": "code",
   "execution_count": 28,
   "metadata": {},
   "outputs": [
    {
     "data": {
      "text/plain": [
       "(14.676, 121.0437)"
      ]
     },
     "execution_count": 28,
     "metadata": {},
     "output_type": "execute_result"
    }
   ],
   "source": [
    "# Quezon City coordinates\n",
    "latitude = 14.6760\n",
    "longitude = 121.0437\n",
    "coordinates = (latitude, longitude)\n",
    "coordinates"
   ]
  },
  {
   "cell_type": "code",
   "execution_count": 29,
   "metadata": {},
   "outputs": [
    {
     "name": "stdout",
     "output_type": "stream",
     "text": [
      "14.676\n",
      "121.0437\n"
     ]
    }
   ],
   "source": [
    "# You can also unpack a tuple\n",
    "latitude_x, longitude_y = coordinates\n",
    "print(latitude_x)\n",
    "print(longitude_y)"
   ]
  },
  {
   "cell_type": "markdown",
   "metadata": {},
   "source": [
    "#### Dictionaries\n",
    "- mutable, unordered collection of key-value pairs\n",
    "- created using curly braces `{}`\n",
    "- keys are unique and immutable\n",
    "- values can be of any data type\n",
    "- commonly used to store related pieces of information that can be accessed using a key\n",
    "- useful when you want to rename variables or create a lookup table"
   ]
  },
  {
   "cell_type": "code",
   "execution_count": null,
   "metadata": {},
   "outputs": [],
   "source": [
    "# When you want to standardize column names, you can use a dictionary\n",
    "columns_ptci={\n",
    "    \"Site Name\": \"Site_ID\",\n",
    "    \"Site Tenancy status_22Mar2024\": \"MNO\",\n",
    "    \"Project Type\": \"Type\",\n",
    "    \"Location (Latitude)\": \"Latitude\",\n",
    "    \"Location (Longitude)\": \"Longitude\"\n",
    "    }\n",
    "\n",
    "# You can also use a dictionary when you want to rename or standardize values\n",
    "mno_mapping = {\n",
    "    \"Globe (Anchor)\": \"Globe\",\n",
    "    \"Globe  (Anchor) + Smart (Colo)\": \"Globe\",\n",
    "    \"Globe  (Anchor) + DITO (Colo)\": \"Globe\",\n",
    "    \"Smart (Anchor)\": \"Smart\",\n",
    "    \"Smart  (Anchor) + Globe (Colo)\": \"Smart\",\n",
    "    \"Smart (Anchor) + DITO (Colo)\": \"Smart\",\n",
    "    \"SMART\": \"Smart\"\n",
    "    }"
   ]
  },
  {
   "cell_type": "markdown",
   "metadata": {},
   "source": [
    "#### Sets\n",
    "- mutable, unordered collection of unique items\n",
    "- created using curly braces `{}`\n",
    "- can only contain immutable items such as strings, numbers, and tuples\n",
    "- useful when you want to remove duplicates from a list or check for duplicates"
   ]
  },
  {
   "cell_type": "code",
   "execution_count": 30,
   "metadata": {},
   "outputs": [],
   "source": [
    "# example of a set\n",
    "set1 = {1, 2, 3}\n",
    "set2 = {3, 4, 5}"
   ]
  },
  {
   "cell_type": "code",
   "execution_count": 31,
   "metadata": {},
   "outputs": [
    {
     "data": {
      "text/plain": [
       "{1, 2, 3, 4, 5}"
      ]
     },
     "execution_count": 31,
     "metadata": {},
     "output_type": "execute_result"
    }
   ],
   "source": [
    "# union\n",
    "set1.union(set2)"
   ]
  },
  {
   "cell_type": "code",
   "execution_count": 32,
   "metadata": {},
   "outputs": [
    {
     "data": {
      "text/plain": [
       "{3}"
      ]
     },
     "execution_count": 32,
     "metadata": {},
     "output_type": "execute_result"
    }
   ],
   "source": [
    "# intersection\n",
    "set1.intersection(set2)"
   ]
  },
  {
   "cell_type": "markdown",
   "metadata": {},
   "source": [
    "## 1) Functions\n",
    "\n",
    "**What are they?**  \n",
    "Small, named blocks of code that take inputs (arguments), do one job, and (usually) return a result.\n",
    "\n",
    "**Why we love them (for problem sets & research code):**\n",
    "- **Readability** – break a complex task into small, named steps.\n",
    "- **Modularity** – each function does one thing; swap or improve without touching others.\n",
    "- **Reusability** – call the same function anywhere (no copy–paste).\n",
    "- **Maintainability** – bugs are easier to localize and fix.\n",
    "- **Testability** – you can unit-test a function in isolation.\n",
    "- **Documentation** – a function’s docstring is “in-place” documentation.\n",
    "\n",
    "### Good practices\n",
    "- **One responsibility** per function (“do one thing well”).\n",
    "- **Clear names** (verbs for functions: `compute_interest`, `estimate_demand`).\n",
    "- **Type the docstrings** for clarity of usage.\n",
    "- **Return values** over printing (use prints only for user-facing scripts).\n",
    "- **Pure when possible** (avoid hidden dependencies/global state).\n",
    "\n",
    "### Example: Interest functions"
   ]
  },
  {
   "cell_type": "code",
   "execution_count": 33,
   "metadata": {},
   "outputs": [],
   "source": [
    "def compound_interest(principal, rate, time):\n",
    "    \"\"\"\n",
    "    Calculate the compound interest\n",
    "\n",
    "    Parameters:\n",
    "    principal: float - the initial amount of money\n",
    "    rate: float - the interest rate\n",
    "    time: int - the time period in terms of number of years\n",
    "\n",
    "    Returns:\n",
    "    float - the compounded interest\n",
    "    \"\"\"\n",
    "\n",
    "    interest = (principal * (1 + rate) ** time) - principal\n",
    "    return interest"
   ]
  },
  {
   "cell_type": "code",
   "execution_count": 34,
   "metadata": {},
   "outputs": [],
   "source": [
    "def simple_interest(principal, rate, time):\n",
    "    \"\"\"\n",
    "    Calculate the simple interest\n",
    "\n",
    "    Parameters:\n",
    "    principal: float - the initial amount of money\n",
    "    rate: float - the interest rate\n",
    "    time: int - the time period in terms of number of years\n",
    "\n",
    "    Returns:\n",
    "    float - the simple interest\n",
    "    \"\"\"\n",
    "\n",
    "    interest = principal * rate * time\n",
    "    return interest"
   ]
  },
  {
   "cell_type": "code",
   "execution_count": 35,
   "metadata": {},
   "outputs": [
    {
     "data": {
      "text/plain": [
       "102.5"
      ]
     },
     "execution_count": 35,
     "metadata": {},
     "output_type": "execute_result"
    }
   ],
   "source": [
    "# sample usage\n",
    "P = 1000\n",
    "i = 0.05\n",
    "t = 2\n",
    "\n",
    "compound_interest(P, i, t)"
   ]
  },
  {
   "cell_type": "code",
   "execution_count": 36,
   "metadata": {},
   "outputs": [
    {
     "data": {
      "text/plain": [
       "100.0"
      ]
     },
     "execution_count": 36,
     "metadata": {},
     "output_type": "execute_result"
    }
   ],
   "source": [
    "simple_interest(P, i, t)"
   ]
  },
  {
   "cell_type": "markdown",
   "metadata": {},
   "source": [
    "### Modules\n",
    "A module is just a .py file that groups related functions, classes, and constants. You create modules by saving code in a file (e.g., finance.py). You use modules by importing them.\n",
    "\n",
    "#### Why modules matter\n",
    "\n",
    "- **Organization** – split big projects into logical files (e.g., finance.py, demand.py, utils.py).\n",
    "- **Reusability** – import in multiple notebooks/scripts.\n",
    "- **Namespace safety** – avoid name collisions and spaghetti code. Spaghetti code is code that is hard to read and maintain because it is poorly organized and structured."
   ]
  },
  {
   "cell_type": "markdown",
   "metadata": {},
   "source": [
    "You can create a module by saving the functions in a .py file (e.g., finance.py) and then importing it in your notebook or script. But for non-technical users, it's often easier to use third-party modules like `numpy_financial` that provide pre-built functions for financial calculations."
   ]
  },
  {
   "cell_type": "code",
   "execution_count": 42,
   "metadata": {},
   "outputs": [
    {
     "name": "stdout",
     "output_type": "stream",
     "text": [
      "Requirement already satisfied: numpy_financial in /Users/moxballo/Documents/GitHub/.venv/lib/python3.13/site-packages (1.0.0)\n",
      "Requirement already satisfied: numpy>=1.15 in /Users/moxballo/Documents/GitHub/.venv/lib/python3.13/site-packages (from numpy_financial) (2.2.2)\n",
      "\n",
      "\u001b[1m[\u001b[0m\u001b[34;49mnotice\u001b[0m\u001b[1;39;49m]\u001b[0m\u001b[39;49m A new release of pip is available: \u001b[0m\u001b[31;49m25.0\u001b[0m\u001b[39;49m -> \u001b[0m\u001b[32;49m25.2\u001b[0m\n",
      "\u001b[1m[\u001b[0m\u001b[34;49mnotice\u001b[0m\u001b[1;39;49m]\u001b[0m\u001b[39;49m To update, run: \u001b[0m\u001b[32;49mpip install --upgrade pip\u001b[0m\n"
     ]
    }
   ],
   "source": [
    "!pip install numpy_financial"
   ]
  },
  {
   "cell_type": "code",
   "execution_count": 44,
   "metadata": {},
   "outputs": [
    {
     "name": "stdout",
     "output_type": "stream",
     "text": [
      "102.5\n"
     ]
    }
   ],
   "source": [
    "import numpy_financial\n",
    "\n",
    "# Parameters\n",
    "gains = numpy_financial.fv(rate=i, nper=t, pmt=0, pv=-P) - P\n",
    "print(gains)"
   ]
  },
  {
   "cell_type": "markdown",
   "metadata": {},
   "source": [
    "# Object-Oriented Programming in Python\n",
    "## When to Move from Functions to OOP (Classes)\n",
    "- So far, we have written functions to perform specific tasks. While functions are useful for breaking down complex tasks into smaller, more manageable tasks, they have limitations when it comes to modeling real-world entities.\n",
    "- Managing individual functions can be challenging when working with complex systems that involve multiple functions and data structures.\n",
    "- Object-Oriented Programming (OOP) is a programming paradigm that uses objects to model real-world entities.\n",
    "- OOP allows you to create classes that represent real-world entities and define methods that operate on those classes.\n",
    "- OOP provides a way to bundle data (attributes) and functions (methods) into a single structure (class)\n",
    "\n",
    "## Signs you might want a class:\n",
    "- You pass the same arguments (principal, rate, time) to many functions.\n",
    "- You want methods that naturally belong to the same economic object (e.g., a consumer, a firm, a calculator).\n",
    "- You want validation in one place (e.g., check rate is a decimal between 0 and 1)."
   ]
  },
  {
   "cell_type": "code",
   "execution_count": 45,
   "metadata": {},
   "outputs": [],
   "source": [
    "class FinancialCalculator:\n",
    "    def __init__(self, principal, rate, time):\n",
    "        \"\"\"\n",
    "        Initialize the FinancialCalculator class.\n",
    "\n",
    "        Parameters:\n",
    "        principal (float): The initial amount of money.\n",
    "        rate (float): The annual interest rate (expressed as a decimal, e.g., 0.05 for 5%).\n",
    "        time (int): The time period in years.\n",
    "        \"\"\"\n",
    "        self.principal = principal\n",
    "        self.rate = rate\n",
    "        self.time = time\n",
    "\n",
    "    def compound_interest(self):\n",
    "        \"\"\"\n",
    "        Calculate compound interest over the time period.\n",
    "\n",
    "        Uses the formula:\n",
    "            A = P * (1 + r) ** t\n",
    "            Interest = A - P\n",
    "\n",
    "        Returns:\n",
    "        float: The compound interest accrued.\n",
    "        \"\"\"\n",
    "        amount = self.principal * (1 + self.rate) ** self.time\n",
    "        interest = amount - self.principal\n",
    "        return interest\n",
    "\n",
    "    def simple_interest(self):\n",
    "        \"\"\"\n",
    "        Calculate simple interest over the time period.\n",
    "\n",
    "        Uses the formula:\n",
    "            Interest = P * r * t\n",
    "\n",
    "        Returns:\n",
    "        float: The simple interest accrued.\n",
    "        \"\"\"\n",
    "        interest = self.principal * self.rate * self.time\n",
    "        return interest\n",
    "\n",
    "    def annuity_future_value(self, payment, annuity_type='ordinary'):\n",
    "        \"\"\"\n",
    "        Calculate the future value of a series of annuity payments.\n",
    "\n",
    "        For an ordinary annuity (payments at the end of each period), the future value is:\n",
    "            FV = Payment * ((1 + r)^t - 1) / r\n",
    "\n",
    "        For an annuity due (payments at the beginning of each period), the future value is:\n",
    "            FV = Payment * ((1 + r)^t - 1) / r * (1 + r)\n",
    "\n",
    "        Parameters:\n",
    "        payment (float): The amount of each annuity payment.\n",
    "        annuity_type (str): The type of annuity, either 'ordinary' or 'due'. \n",
    "                            Defaults to 'ordinary'.\n",
    "\n",
    "        Returns:\n",
    "        float: The future value of the annuity.\n",
    "        \n",
    "        Raises:\n",
    "        ValueError: If annuity_type is not 'ordinary' or 'due'.\n",
    "        \"\"\"\n",
    "        if self.rate == 0:\n",
    "            # Avoid division by zero if the interest rate is 0\n",
    "            fv = payment * self.time\n",
    "        else:\n",
    "            fv = payment * ((1 + self.rate) ** self.time - 1) / self.rate\n",
    "        \n",
    "        if annuity_type.lower() == 'ordinary':\n",
    "            return fv\n",
    "        elif annuity_type.lower() == 'due':\n",
    "            # For annuities due, each payment compounds for an extra period.\n",
    "            return fv * (1 + self.rate)\n",
    "        else:\n",
    "            raise ValueError(\"Invalid annuity type: choose 'ordinary' or 'due'\")\n"
   ]
  },
  {
   "cell_type": "code",
   "execution_count": 46,
   "metadata": {},
   "outputs": [
    {
     "name": "stdout",
     "output_type": "stream",
     "text": [
      "102.5\n",
      "100.0\n",
      "205.00000000000006\n",
      "215.25000000000006\n"
     ]
    }
   ],
   "source": [
    "# Usage\n",
    "fc = FinancialCalculator(principal=1000, rate=0.05, time=2)\n",
    "print(fc.compound_interest())\n",
    "print(fc.simple_interest())\n",
    "print(fc.annuity_future_value(100, annuity_type='ordinary'))\n",
    "print(fc.annuity_future_value(100, annuity_type='due'))"
   ]
  },
  {
   "cell_type": "markdown",
   "metadata": {},
   "source": [
    "## Function vs Class Rule of Thumb\n",
    "- Use functions for single calculations (e.g., gdp_growth, elasticity).\n",
    "- Use a class when modeling an entity with state and multiple related methods (e.g., Consumer, FinancialCalculator, Firm)."
   ]
  },
  {
   "cell_type": "markdown",
   "metadata": {},
   "source": [
    "## OOP Concepts\n",
    "\n",
    "### Classes and Objects\n",
    "- A class is a blueprint for creating objects (instances). It encapsulates data (attributes) and behavior (methods) that operate on that data. \n",
    "- Think of a class as a template or a model for a real-world entity, while an object is an instance of that class.\n",
    "- in the 'FinancialCalculator' class \n",
    "    - the 'principal', 'rate', 'time', and 'compound' are attributes\n",
    "    - the 'compound_interest(), simple_interest(), and annuity_future_value()' methods are the behaviors that operates on those attributes.\n",
    "\n",
    "### Classes vs Modules and Functions\n",
    "- functions encapsulate behavior, while classes encapsulate both data and behavior\n",
    "- modules is a file containing related functions, classes, and variables. Thus, it offers a broader context by grouping functions and classes together\n",
    "\n",
    "### Inheritance\n",
    "- Inheritance is a mechanism where a new class (child or subclass) derives from an existing class (parent or superclass). The subclass inherits attributes and methods from the parent, but can also extend or override them.\n",
    "- Inheritance allows you to reuse code, promote code reuse, and create a hierarchy of classes that represent real-world entities.\n",
    "\n",
    "### Summary\n",
    "Classes vs. Modules vs. Functions (one-liner differences)\n",
    "- Function → behavior only (a calculation).\n",
    "- Class → data and behavior (a model of an entity).\n",
    "- Module → a file that groups functions/classes into a reusable unit.\n",
    "- Inheritance → a way to create a new class based on an existing class. You re-use and extend a class without rewriting it.\n",
    "\n",
    "### Example: Optimal Consumption Under Different Preferences\n",
    "\n",
    "#### Base class: Cobb–Douglas consumer"
   ]
  },
  {
   "cell_type": "code",
   "execution_count": 47,
   "metadata": {},
   "outputs": [],
   "source": [
    "class Consumer:\n",
    "    def __init__(self, income, price_good1, price_good2, alpha):\n",
    "        \"\"\"\n",
    "        Initialize the Consumer class.\n",
    "        \n",
    "        Parameters:\n",
    "        income (float): Total income available for consumption.\n",
    "        price_good1 (float): Price of good 1.\n",
    "        price_good2 (float): Price of good 2.\n",
    "        alpha (float): Preference parameter (0 < alpha < 1) for good 1.\n",
    "        \"\"\"\n",
    "        self.income = income\n",
    "        self.price_good1 = price_good1\n",
    "        self.price_good2 = price_good2\n",
    "        self.alpha = alpha\n",
    "\n",
    "    def budget_constraint(self):\n",
    "        \"\"\"\n",
    "        Returns the maximum quantities of each good the consumer can purchase.\n",
    "        \"\"\"\n",
    "        max_good1 = self.income / self.price_good1\n",
    "        max_good2 = self.income / self.price_good2\n",
    "        return max_good1, max_good2\n",
    "\n",
    "    def utility(self, good1, good2):\n",
    "        \"\"\"\n",
    "        Compute the Cobb-Douglas utility for a consumption bundle.\n",
    "        \n",
    "        U = good1^alpha * good2^(1 - alpha)\n",
    "        \"\"\"\n",
    "        return (good1 ** self.alpha) * (good2 ** (1 - self.alpha))\n",
    "\n",
    "    def optimal_consumption(self):\n",
    "        \"\"\"\n",
    "        For a Cobb-Douglas utility function, the optimal consumption can be computed analytically.\n",
    "        \n",
    "        Returns:\n",
    "        tuple: Optimal quantities of good1 and good2.\n",
    "        \"\"\"\n",
    "        # Allocate alpha proportion of income to good1 and (1-alpha) to good2.\n",
    "        good1 = (self.alpha * self.income) / self.price_good1\n",
    "        good2 = ((1 - self.alpha) * self.income) / self.price_good2\n",
    "        return good1, good2"
   ]
  },
  {
   "cell_type": "markdown",
   "metadata": {},
   "source": [
    "The `Consumer` class models the decision-making behavior of a rational consumer. It assumes that consumers maximize their utility subject to a budget constraint, using a **Cobb-Douglas utility function**.\n",
    "\n",
    "#### **1. Class Initialization (`__init__` method)**\n",
    "\n",
    "The class is initialized with:\n",
    "- `income` ($M$): The total amount the consumer can spend.\n",
    "- `price_good1` ($p_1$): The price of good 1.\n",
    "- `price_good2` ($p_2$): The price of good 2.\n",
    "- `alpha` ($\\alpha$): A preference parameter that determines the relative importance of good 1 in the consumer’s utility function. \n",
    "\n",
    "We assume a **Cobb-Douglas utility function**:\n",
    "\n",
    "$ U(x_1, x_2) = x_1^\\alpha \\cdot x_2^{(1 - \\alpha)} $\n",
    "\n",
    "where:\n",
    "- $x_1$ and $x_2$ are the quantities of good 1 and good 2, respectively.\n",
    "- $\\alpha$ represents the fraction of income spent on good 1, and \\(1 - \\alpha\\) is spent on good 2.\n",
    "\n",
    "\n",
    "\n",
    "#### **2. Budget Constraint (`budget_constraint` method)**\n",
    "\n",
    "A consumer’s **budget constraint** in the model is:\n",
    "\n",
    "$ p_1 x_1 + p_2 x_2 = M $\n",
    "where:\n",
    "- $M$ is the total income.\n",
    "- $p_1$ and $p_2$ are the prices of the two goods.\n",
    "- $x_1$ and $x_2$ are the quantities purchased.\n",
    "\n",
    "The method `budget_constraint` computes the maximum amounts of each good the consumer could afford **if all income were spent on just one good**:\n",
    "\n",
    "$x_1^{max} = \\frac{M}{p_1}, \\quad x_2^{max} = \\frac{M}{p_2}$\n",
    "\n",
    "\n",
    "This helps determine the limits of feasible consumption.\n",
    "\n",
    "\n",
    "#### **3. Utility Function (`utility` method)**\n",
    "\n",
    "The `utility` method evaluates the **Cobb-Douglas utility function** for a given consumption bundle ($x_1, x_2$):\n",
    "\n",
    "\n",
    "$U(x_1, x_2) = x_1^\\alpha \\cdot x_2^{(1 - \\alpha)}$\n",
    "\n",
    "This follows from the treatment of consumer preferences, where the Cobb-Douglas function has the following key properties:\n",
    "1. **Monotonicity**: More consumption of both goods increases utility.\n",
    "2. **Diminishing Marginal Rate of Substitution (MRS)**: Consumers trade off one good for another at a decreasing rate.\n",
    "\n",
    "\n",
    "\n",
    "#### **4. Optimal Consumption (`optimal_consumption` method)**\n",
    "\n",
    "To maximize utility, we solve the **Cobb-Douglas consumer problem** subject to the budget constraint. The demand functions for a Cobb-Douglas utility function are:\n",
    "\n",
    "\n",
    "$x_1^* = \\frac{\\alpha M}{p_1}, \\quad x_2^* = \\frac{(1 - \\alpha) M}{p_2}$\n",
    "\n",
    "This allocation ensures that:\n",
    "- A fraction $\\alpha$ of the consumer’s budget is spent on good 1.\n",
    "- A fraction $1 - \\alpha$ is spent on good 2.\n",
    "\n",
    "These demand functions derive from the **Lagrangian optimization** approach, where the consumer maximizes utility subject to the budget constraint.\n"
   ]
  },
  {
   "cell_type": "code",
   "execution_count": 54,
   "metadata": {},
   "outputs": [
    {
     "name": "stdout",
     "output_type": "stream",
     "text": [
      "Optimal consumption: Good 1 = 25.0, Good 2 = 50.0\n"
     ]
    }
   ],
   "source": [
    "q1, q2 = Consumer(income=100, price_good1=2, price_good2=1, alpha=0.5).optimal_consumption()\n",
    "print(f\"Optimal consumption: Good 1 = {q1}, Good 2 = {q2}\")"
   ]
  },
  {
   "cell_type": "code",
   "execution_count": 55,
   "metadata": {},
   "outputs": [],
   "source": [
    "class Complements(Consumer):\n",
    "    def __init__(self, income, price_good1, price_good2, a, b):\n",
    "        \"\"\"\n",
    "        Initialize the Complements class.\n",
    "        \n",
    "        Parameters:\n",
    "        a (float): Required proportion of good1.\n",
    "        b (float): Required proportion of good2.\n",
    "        \"\"\"\n",
    "        # The \"alpha\" parameter isn't used for Complements,\n",
    "        # so we can set it to None or a default value.\n",
    "        super().__init__(income, price_good1, price_good2, alpha=0.5)\n",
    "        self.a = a\n",
    "        self.b = b\n",
    "\n",
    "    def utility(self, good1, good2):\n",
    "        \"\"\"\n",
    "        Compute the  utility:\n",
    "        \n",
    "        U = min(good1 / a, good2 / b)\n",
    "        \"\"\"\n",
    "        u = min(good1 / self.a, good2 / self.b)\n",
    "\n",
    "        return u\n",
    "\n",
    "    def optimal_consumption(self):\n",
    "        \"\"\"\n",
    "        For complementary preferences, the consumer will spend their income\n",
    "        to exactly achieve the ratio a:b. The optimal quantities can be\n",
    "        derived from the budget constraint:\n",
    "        \n",
    "        Let good1* = q, and good2* = (b/a) * q. Then:\n",
    "            income = price_good1 * q + price_good2 * (b/a) * q\n",
    "        \"\"\"\n",
    "        q = self.income / (self.price_good1 + (self.price_good2 * self.b / self.a))\n",
    "        good1 = q\n",
    "        good2 = (self.b / self.a) * q\n",
    "        return good1, good2"
   ]
  },
  {
   "cell_type": "markdown",
   "metadata": {},
   "source": [
    "The `Complements` class models a **consumer with complementary preferences**. Unlike Cobb-Douglas preferences, where goods can be freely substituted, this model assumes that goods must be consumed **in fixed proportions**, though not necessarily **one-to-one (perfect complements)**.\n",
    "\n",
    "#### **1. Class Initialization (`__init__` method)**\n",
    "\n",
    "This class extends `Consumer`, but instead of using a **Cobb-Douglas utility function**, it models a consumer who requires **goods in a fixed ratio**. The parameters are:\n",
    "\n",
    "- `income` ($M$): Total money available for spending.\n",
    "- `price_good1` ($p_1$): Price of good 1.\n",
    "- `price_good2` ($p_2$): Price of good 2.\n",
    "- `a` ($a$): The required proportion of good 1.\n",
    "- `b` ($b$): The required proportion of good 2.\n",
    "\n",
    "Unlike the **Cobb-Douglas utility function**, the **\"alpha\" parameter** is irrelevant in this case and is ignored.\n",
    "\n",
    "**Example:**\n",
    "Suppose a consumer must consume **1 unit of good 1** for **3 units of good 2** ($a=1, b=3$). This means that **for every unit of good 1 consumed, 3 units of good 2 must also be consumed**.\n",
    "\n",
    "#### **2. Utility Function (`utility` method)**\n",
    "\n",
    "For complementary goods, utility follows the **Leontief function**:\n",
    "\n",
    "\n",
    "$ U(q_1, q_2) = \\min\\left(\\frac{q_1}{a}, \\frac{q_2}{b}\\right) $\n",
    "\n",
    "This implies:\n",
    "- The consumer's satisfaction is determined by the **scarcer** good in the required ratio.\n",
    "- If too much of one good is available relative to the other, it **does not increase utility**.\n",
    "\n",
    "**Example:**\n",
    "If the consumer has **4 units of good 1** and **10 units of good 2**, and the required ratio is **1:3**, then:\n",
    "\n",
    "\n",
    "$ U(4,10) = \\min\\left(\\frac{4}{1}, \\frac{10}{3}\\right) = \\min(4, 3.33) = 3.33 $\n",
    "\n",
    "Since only **3.33 full sets** can be formed, **the extra unit of good 1 does not increase utility**.\n",
    "\n",
    "## **3. Optimal Consumption (`optimal_consumption` method)**\n",
    "\n",
    "The consumer chooses the **utility-maximizing bundle** while staying within the budget constraint:\n",
    "\n",
    "\n",
    "$ p_1 q_1 + p_2 q_2 = M $\n",
    "\n",
    "Since the consumer always consumes goods **in a fixed ratio**, we express $q_2$ in terms of $q_1$:\n",
    "\n",
    "\n",
    "$ q_2 = \\frac{b}{a} q_1 $\n",
    "\n",
    "Substituting into the budget constraint:\n",
    "\n",
    "\n",
    "$ M = p_1 q_1 + p_2 \\left(\\frac{b}{a} q_1\\right) $\n",
    "\n",
    "Solving for $q_1^*$:\n",
    "\n",
    "\n",
    "$q_1^* = \\frac{M}{p_1 + \\frac{b}{a} p_2}, \\quad q_2^* = \\frac{b}{a} q_1^* $\n",
    "\n",
    "This determines the **optimal quantities of both goods** based on income and prices."
   ]
  },
  {
   "cell_type": "code",
   "execution_count": 56,
   "metadata": {},
   "outputs": [
    {
     "name": "stdout",
     "output_type": "stream",
     "text": [
      "Optimal consumption: Good 1 = 20.0, Good 2 = 60.0\n"
     ]
    }
   ],
   "source": [
    "q1, q2 = Complements(income=100, price_good1=2, price_good2=1, a=1, b=3).optimal_consumption()\n",
    "print(f\"Optimal consumption: Good 1 = {q1}, Good 2 = {q2}\")"
   ]
  },
  {
   "cell_type": "code",
   "execution_count": 51,
   "metadata": {},
   "outputs": [
    {
     "name": "stdout",
     "output_type": "stream",
     "text": [
      "Utility: 20.0\n"
     ]
    }
   ],
   "source": [
    "# utility\n",
    "u = Complements(income=100, price_good1=2, price_good2=1, a=1, b=3).utility(q1, q2)\n",
    "print(f\"Utility: {u}\")"
   ]
  },
  {
   "cell_type": "markdown",
   "metadata": {},
   "source": [
    "## Sample Hands On\n",
    "- Create a class for substitutes"
   ]
  },
  {
   "cell_type": "code",
   "execution_count": 52,
   "metadata": {},
   "outputs": [],
   "source": [
    "# create your class here\n"
   ]
  },
  {
   "cell_type": "markdown",
   "metadata": {},
   "source": [
    "*Include your explanataions here for the class*"
   ]
  },
  {
   "cell_type": "code",
   "execution_count": 53,
   "metadata": {},
   "outputs": [
    {
     "ename": "TypeError",
     "evalue": "Substitutes.__init__() got an unexpected keyword argument 'delta'",
     "output_type": "error",
     "traceback": [
      "\u001b[0;31m---------------------------------------------------------------------------\u001b[0m",
      "\u001b[0;31mTypeError\u001b[0m                                 Traceback (most recent call last)",
      "Cell \u001b[0;32mIn[53], line 2\u001b[0m\n\u001b[1;32m      1\u001b[0m \u001b[38;5;66;03m# create the output here\u001b[39;00m\n\u001b[0;32m----> 2\u001b[0m ps_q1, ps_q2 \u001b[38;5;241m=\u001b[39m \u001b[43mSubstitutes\u001b[49m\u001b[43m(\u001b[49m\u001b[43mincome\u001b[49m\u001b[38;5;241;43m=\u001b[39;49m\u001b[38;5;241;43m100\u001b[39;49m\u001b[43m,\u001b[49m\u001b[43m \u001b[49m\u001b[43mprice_good1\u001b[49m\u001b[38;5;241;43m=\u001b[39;49m\u001b[38;5;241;43m2\u001b[39;49m\u001b[43m,\u001b[49m\u001b[43m \u001b[49m\u001b[43mprice_good2\u001b[49m\u001b[38;5;241;43m=\u001b[39;49m\u001b[38;5;241;43m1\u001b[39;49m\u001b[43m,\u001b[49m\u001b[43m \u001b[49m\u001b[43mdelta\u001b[49m\u001b[38;5;241;43m=\u001b[39;49m\u001b[38;5;241;43m0.5\u001b[39;49m\u001b[43m)\u001b[49m\u001b[38;5;241m.\u001b[39moptimal_consumption()\n\u001b[1;32m      3\u001b[0m ps_q1, ps_q2\n",
      "\u001b[0;31mTypeError\u001b[0m: Substitutes.__init__() got an unexpected keyword argument 'delta'"
     ]
    }
   ],
   "source": [
    "# create the output here\n",
    "ps_q1, ps_q2 = Substitutes(income=100, price_good1=2, price_good2=1, delta=0.5).optimal_consumption()\n",
    "ps_q1, ps_q2"
   ]
  },
  {
   "cell_type": "markdown",
   "metadata": {},
   "source": [
    "# Coding Best Practices and PEP 8\n",
    "- Coding Style refers to the conventions and guidelines used to write code.\n",
    "\n",
    "## Importance of Coding Style\n",
    "- important to ensure that the code we write is not only functionally correct but also clear, maintainable, and consistent\n",
    "- When our code grows more complex, such as in larger economic models or simulations, good coding practices become essential for both ourselves and others who may read or build upon our work\n",
    "\n",
    "### Folder Management\n",
    "\n",
    "Organizing your code into a clear folder structure is essential for maintaining a scalable and navigable project. Here are some best practices along with examples:\n",
    "\n",
    "- **Organize by Project:**  \n",
    "  Create a dedicated folder for each project. Within that folder, use subfolders to separate different types of files.  \n",
    "  **Example:**"
   ]
  },
  {
   "cell_type": "code",
   "execution_count": null,
   "metadata": {
    "vscode": {
     "languageId": "html"
    }
   },
   "outputs": [],
   "source": [
    "my_project/\n",
    "├── data/\n",
    "│   ├── raw/\n",
    "│   └── processed/\n",
    "├── code/\n",
    "│   ├── scripts/\n",
    "│   └── modules/\n",
    "├── output/\n",
    "│   ├── figures/\n",
    "│   └── reports/\n",
    "└── README.md"
   ]
  },
  {
   "cell_type": "markdown",
   "metadata": {},
   "source": [
    "- Organize your code into folders and subfolders based on \n",
    "- Personal preference:\n",
    "\n",
    "    - Create a folder for each project and subfolders for data, code, and output\n",
    "    - Start a new folder with a name that has a number to keep the folders in order"
   ]
  },
  {
   "cell_type": "code",
   "execution_count": null,
   "metadata": {
    "vscode": {
     "languageId": "html"
    }
   },
   "outputs": [],
   "source": [
    "01_project_proposal/\n",
    "02_data_collection/\n",
    "03_analysis/\n",
    "04_reporting/"
   ]
  },
  {
   "cell_type": "markdown",
   "metadata": {},
   "source": [
    "### File Naming\n",
    "- Use descriptive names for files and folders that clearly describe the file’s purpose or content.  \n",
    "**Example:**  \n",
    "    - Instead of `script.py`, use `data_cleaning.py` or `model_training.py`.\n",
    "    - Instead of `output.txt`, use `results_summary.txt`.\n",
    "- Use lowercase letters and underscores to separate words for readability and to avoid issues on case-sensitive file systems.  \n",
    "**Example:**\n",
    "    - `data_collection.csv`\n",
    "    - `economic_modeling.ipynb`\n",
    "    - `final_report.md`\n",
    "\n",
    "\n",
    "## PEP 8\n",
    "- PEP 8 is the official style guide for Python code\n",
    "- It provides guidelines on how to format Python code for maximum readability\n",
    "- PEP 8 covers topics such as:\n",
    "    - Indentation\n",
    "    - Line length\n",
    "    - Blank lines\n",
    "    - Comments\n",
    "    - Naming conventions\n",
    "    - Imports\n",
    "    - Whitespace\n",
    "    - Expressions and statements\n",
    "    - Programming recommendations"
   ]
  },
  {
   "cell_type": "markdown",
   "metadata": {},
   "source": [
    "### Indentation and White Space\n",
    "- Use 4 spaces for indentation. This ensures that the structure of the code is clear and easy to read."
   ]
  },
  {
   "cell_type": "code",
   "execution_count": null,
   "metadata": {},
   "outputs": [],
   "source": [
    "def FinancialCalculator(principal, rate, time):\n",
    "    \"\"\"\n",
    "    Calculate the compound interest\n",
    "\n",
    "    Parameters:\n",
    "    principal: float - the initial amount of money\n",
    "    rate: float - the interest rate\n",
    "    time: int - the time period in terms of number of years\n",
    "\n",
    "    Returns:\n",
    "    float - the compounded interest\n",
    "    \"\"\"\n",
    "    interest = (principal * (1 + rate) ** time) - principal\n",
    "    return interest"
   ]
  },
  {
   "cell_type": "markdown",
   "metadata": {},
   "source": [
    "- use blank lines to separate functions, classes, or logical sections of code"
   ]
  },
  {
   "cell_type": "code",
   "execution_count": null,
   "metadata": {},
   "outputs": [],
   "source": [
    "class Complements(Consumer):\n",
    "    def __init__(self, income, price_good1, price_good2, a, b):\n",
    "        \"\"\"\n",
    "        Initialize the Complements class.\n",
    "        \n",
    "        Parameters:\n",
    "        a (float): Required proportion of good1.\n",
    "        b (float): Required proportion of good2.\n",
    "        \"\"\"\n",
    "        # The \"alpha\" parameter isn't used for Complements,\n",
    "        # so we can set it to None or a default value.\n",
    "        super().__init__(income, price_good1, price_good2, alpha=0.5)\n",
    "        self.a = a\n",
    "        self.b = b\n",
    "\n",
    "    def utility(self, good1, good2):\n",
    "        \"\"\"\n",
    "        Compute the  utility:\n",
    "        \n",
    "        U = min(good1 / a, good2 / b)\n",
    "        \"\"\"\n",
    "        u = min(good1 / self.a, good2 / self.b)\n",
    "\n",
    "        return u\n",
    "\n",
    "    def optimal_consumption(self):\n",
    "        \"\"\"\n",
    "        For complementary preferences, the consumer will spend their income\n",
    "        to exactly achieve the ratio a:b. The optimal quantities can be\n",
    "        derived from the budget constraint:\n",
    "        \n",
    "        Let good1* = q, and good2* = (b/a) * q. Then:\n",
    "            income = price_good1 * q + price_good2 * (b/a) * q\n",
    "        \"\"\"\n",
    "        q = self.income / (self.price_good1 + (self.price_good2 * self.b / self.a))\n",
    "        good1 = q\n",
    "        good2 = (self.b / self.a) * q\n",
    "        return good1, good2"
   ]
  },
  {
   "cell_type": "markdown",
   "metadata": {},
   "source": [
    "- trailing whitespace should be avoided\n",
    "\n",
    "### Naming Conventions\n",
    "\n",
    "#### Variables and Functions\n",
    "- Use lowercase letters and underscores to separate words"
   ]
  },
  {
   "cell_type": "code",
   "execution_count": null,
   "metadata": {},
   "outputs": [],
   "source": [
    "def calculate_interest(principal, rate, time):\n",
    "    \"\"\"\n",
    "    Calculate the compound interest\n",
    "\n",
    "    Parameters:\n",
    "    principal: float - the initial amount of money\n",
    "    rate: float - the interest rate\n",
    "    time: int - the time period in terms of number of years\n",
    "\n",
    "    Returns:\n",
    "    float - the compounded interest\n",
    "    \"\"\"\n",
    "    interest = (principal * (1 + rate) ** time) - principal\n",
    "    return interest"
   ]
  },
  {
   "cell_type": "markdown",
   "metadata": {},
   "source": [
    "#### Classes\n",
    "- Use the CapWords convention"
   ]
  },
  {
   "cell_type": "code",
   "execution_count": null,
   "metadata": {},
   "outputs": [],
   "source": [
    "class FinancialCalculator:\n",
    "    def __init__(self, principal, rate, time):\n",
    "        \"\"\"\n",
    "        Initialize the FinancialCalculator class.\n",
    "\n",
    "        Parameters:\n",
    "        principal (float): The initial amount of money.\n",
    "        rate (float): The annual interest rate (expressed as a decimal, e.g., 0.05 for 5%).\n",
    "        time (int): The time period in years.\n",
    "        \"\"\"\n",
    "        self.principal = principal\n",
    "        self.rate = rate\n",
    "        self.time = time\n",
    "    \n",
    "    def compound_interest(self):\n",
    "        \"\"\"\n",
    "        Calculate compound interest over the time period.\n",
    "\n",
    "        Uses the formula:\n",
    "            A = P * (1 + r) ** t\n",
    "            Interest = A - P\n",
    "\n",
    "        Returns:\n",
    "        float: The compound interest accrued.\n",
    "        \"\"\"\n",
    "        amount = self.principal * (1 + self.rate) ** self.time\n",
    "        interest = amount - self.principal\n",
    "        return interest\n",
    "    \n",
    "    def simple_interest(self):\n",
    "        \"\"\"\n",
    "        Calculate simple interest over the time period.\n",
    "\n",
    "        Uses the formula:\n",
    "            Interest = P * r * t\n",
    "\n",
    "        Returns:\n",
    "        float: The simple interest accrued.\n",
    "        \"\"\"\n",
    "        interest = self.principal * self.rate * self.time\n",
    "        return interest"
   ]
  },
  {
   "cell_type": "markdown",
   "metadata": {},
   "source": [
    "#### Constants\n",
    "- Use all uppercase letters and underscores to separate words\n",
    "- These constants are usually used for values that do not change throughout the program\n",
    "- Usually defined at the beginning of the file so that it is easy to find and update them\n",
    "- constants can also be used as a default value for a parameter in a function or method"
   ]
  },
  {
   "cell_type": "code",
   "execution_count": null,
   "metadata": {},
   "outputs": [],
   "source": [
    "MAX_ITERATIONS = 1000  # Used to prevent infinite loops in case of errors\n",
    "DEFAULT_RATE = 0.01   # Default interest rate if not provided"
   ]
  },
  {
   "cell_type": "markdown",
   "metadata": {},
   "source": [
    "### Line Length and Code Layout\n",
    "\n",
    "#### Maximum Line Length\n",
    "- Limit lines to a maximum of 79 characters\n",
    "- if a line is too long, it can be split into multiple lines using parentheses\n",
    "- this is to ensure that the code does not require horizontal scrolling\n",
    "\n",
    "- Bad practice: "
   ]
  },
  {
   "cell_type": "code",
   "execution_count": 57,
   "metadata": {},
   "outputs": [],
   "source": [
    "def long_function_name(variable_one, variable_two, variable_three,variable_four):\n",
    "    \"\"\"A function with a very long parameter list.\"\"\"\n",
    "    return (variable_one + variable_two + variable_three + variable_four)"
   ]
  },
  {
   "cell_type": "code",
   "execution_count": 58,
   "metadata": {},
   "outputs": [],
   "source": [
    "def long_function_name(\n",
    "        variable_one, variable_two, \n",
    "        variable_three,variable_four\n",
    "        ):\n",
    "    \"\"\"\n",
    "    A function with a very long parameter list.\n",
    "    \"\"\"\n",
    "    return (variable_one + variable_two + \n",
    "            variable_three + variable_four)"
   ]
  },
  {
   "cell_type": "markdown",
   "metadata": {},
   "source": [
    "#### Line Breaks\n",
    "- Use parentheses to break long lines\n",
    "- you can use implicit line continuation inside parentheses, brackets, and braces"
   ]
  },
  {
   "cell_type": "code",
   "execution_count": null,
   "metadata": {},
   "outputs": [],
   "source": [
    "result = (\n",
    "    calculate_interest(1000, 0.05, 2) +\n",
    "    calculate_interest(2000, 0.03, 1)\n",
    ")\n",
    "\n",
    "print(result)"
   ]
  },
  {
   "cell_type": "markdown",
   "metadata": {},
   "source": [
    "### Comments and Docstrings\n",
    "\n",
    "#### Inline Comments\n",
    "- Use inline comments to explain complex code or to provide additional context\n",
    "- use it sparingly. They should be brief and to the point"
   ]
  },
  {
   "cell_type": "code",
   "execution_count": null,
   "metadata": {},
   "outputs": [],
   "source": [
    "compound_interest(1000, 0.05, 2) # Calculate the compound interest"
   ]
  },
  {
   "cell_type": "markdown",
   "metadata": {},
   "source": [
    "#### Block Comments\n",
    "- Use block comments to provide an overview of a section of code\n",
    "- use block comments to explain the purpose of a function, class, or module\n",
    "- they should be indented to the same level as the code they are commenting on"
   ]
  },
  {
   "cell_type": "code",
   "execution_count": null,
   "metadata": {},
   "outputs": [],
   "source": [
    "def simple_interest(principal, rate, time):\n",
    "    \"\"\"\n",
    "    Calculate the simple interest\n",
    "    \"\"\"\n",
    "\n",
    "    interest = principal * rate * time\n",
    "    return interest"
   ]
  },
  {
   "cell_type": "markdown",
   "metadata": {},
   "source": [
    "#### Docstrings\n",
    "- Use docstrings to provide documentation for public modules, classes, and functions to describe what they do, how they work, and how they should be used\n",
    "- describe the purpose of the function, the parameters it takes, and the value it returns"
   ]
  },
  {
   "cell_type": "code",
   "execution_count": null,
   "metadata": {},
   "outputs": [],
   "source": [
    "def simple_interest(principal, rate, time):\n",
    "    \"\"\"\n",
    "    Calculate the simple interest\n",
    "\n",
    "    Parameters:\n",
    "    principal: float - the initial amount of money\n",
    "    rate: float - the interest rate\n",
    "    time: int - the time period in terms of number of years\n",
    "\n",
    "    Returns:\n",
    "    float - the simple interest\n",
    "    \"\"\"\n",
    "\n",
    "    interest = principal * rate * time\n",
    "    return interest"
   ]
  },
  {
   "cell_type": "markdown",
   "metadata": {},
   "source": [
    "### Imports\n",
    "\n",
    "#### Ordering of Imports\n",
    "- Imports should be grouped in the following order:\n",
    "    - Standard library imports\n",
    "    - Related third-party imports\n",
    "    - Local application/library-specific imports"
   ]
  },
  {
   "cell_type": "code",
   "execution_count": null,
   "metadata": {},
   "outputs": [],
   "source": [
    "# Standard library imports\n",
    "import os\n",
    "import sys\n",
    "\n",
    "# Third-party imports\n",
    "import numpy as np\n",
    "import pandas as pd\n",
    "\n",
    "# Local application/library specific imports\n",
    "from my_module import my_function"
   ]
  },
  {
   "cell_type": "markdown",
   "metadata": {},
   "source": [
    "### White Spaces in Expressions and Statements\n",
    "- avoid extraneous whitespace in expressions and statements"
   ]
  },
  {
   "cell_type": "code",
   "execution_count": null,
   "metadata": {},
   "outputs": [],
   "source": [
    "# Incorrect:\n",
    "x  =  1\n",
    "y  =2\n",
    "z=x + y\n",
    "\n",
    "# Correct:\n",
    "x = 1\n",
    "y = 2\n",
    "z = x + y"
   ]
  },
  {
   "cell_type": "markdown",
   "metadata": {},
   "source": [
    "# Version Control with Git and GitHub\n",
    "\n",
    "## 1. What is Version Control?\n",
    "- **Version Control** is a system that records changes to files over time.\n",
    "- It lets you:\n",
    "  - Track **who changed what and when**.\n",
    "  - **Revert** to earlier versions if mistakes are made.\n",
    "  - **Collaborate** on the same project without overwriting each other’s work.\n",
    "- Think of it as the *“Track Changes”* feature in Word, but for **code, data, and entire projects**.\n",
    "\n",
    "---\n",
    "\n",
    "## 2. Why Use Version Control?\n",
    "- **Reproducibility**: Keep a history of all changes for transparency (important in academia and economics research).\n",
    "- **Collaboration**: Multiple people can work on the same project at once.\n",
    "- **Backups**: Your code is safe on the cloud (e.g., GitHub), not just on your laptop.\n",
    "- **Experimentation**: Try new ideas in branches without breaking the main project.\n",
    "- **Professionalism**: Journals, universities, and institutions increasingly expect **code + data** to be shared via version control.\n",
    "\n",
    "---\n",
    "\n",
    "## 3. Git vs. GitHub\n",
    "\n",
    "### Git\n",
    "- **Git** is a **distributed version control system** developed by Linus Torvalds (creator of Linux).\n",
    "- Every user has a full copy of the project history on their machine.\n",
    "- You interact with Git using commands like `git add`, `git commit`, `git push`.\n",
    "- Analogy: Like a **local Google Docs with history**, but **offline and in your control**.\n",
    "\n",
    "### GitHub\n",
    "- **GitHub** is a **web platform** for hosting Git repositories online.\n",
    "- Adds collaboration features:\n",
    "  - **Sharing repositories** publicly or privately.\n",
    "  - **Issues & discussions** for project management.\n",
    "  - **Pull requests** for suggesting changes.\n",
    "  - Integration with **journals, data repositories, and teaching platforms**.\n",
    "- Other similar platforms: **GitLab**, **Bitbucket**, but GitHub is the most widely used in academia and industry.\n",
    "\n",
    "---\n",
    "\n",
    "## 4. Git(Hub) in Academia\n",
    "- **Research workflow**: Keep your **code, data, and documentation** in one place.\n",
    "- **Collaboration**: Share with co-authors, advisors, or research assistants.\n",
    "- **Transparency**: Journals and funders increasingly require open code & data.\n",
    "- **Examples**:\n",
    "  - Economists sharing replication packages on GitHub.\n",
    "  - Teaching workflows: professors can use **GitHub Classroom** to distribute problem sets and collect submissions.\n",
    "\n",
    "---\n",
    "\n",
    "## 5. Git Terminology (Key Concepts)\n",
    "\n",
    "- **Repository (Repo)**: A project folder tracked by Git.  \n",
    "- **Commit**: A snapshot of your project at a point in time (like saving with a comment).  \n",
    "- **Branch**: A separate line of development. You can try new things without touching the main project.  \n",
    "- **Merge**: Combining changes from one branch into another.  \n",
    "- **Pull Request (PR)**: Asking to merge your changes into the main project (common in collaboration).  \n",
    "- **Clone**: Copying a remote repository to your local machine.  \n",
    "- **Fork**: Copying someone else’s repo under your own account to propose changes or customize.  \n",
    "- **Issue**: A bug report, task, or idea tracked in GitHub.  \n",
    "- **Remote**: The cloud copy of your repo (e.g., on GitHub).  \n",
    "- **Origin**: The default name for your GitHub repository when linked locally.\n",
    "\n",
    "---\n",
    "\n",
    "## 6. Git Operations (Command Line)\n",
    "\n",
    "1. **Stage Changes**: `git add`\n",
    "   - Prepares changes to be included in the next commit.\n",
    "   - Example: `git add myscript.py`\n",
    "2. **Commit Changes**: `git commit -m \"Added regression script\"`\n",
    "   - Saves a snapshot with a descriptive message.\n",
    "3. **Pull Changes**: `git pull`\n",
    "   - Updates your local repo with changes from GitHub.\n",
    "   - Always pull before pushing to avoid conflicts.\n",
    "4. **Push Changes**: `git push`\n",
    "   - Uploads your commits to GitHub for others to see.\n",
    "\n",
    "---\n",
    "\n",
    "## 7. GitHub Desktop (Recommended for Beginners)\n",
    "\n",
    "Using the command line is powerful, but **GitHub Desktop** provides a user-friendly interface:\n",
    "\n",
    "- **Why use GitHub Desktop?**\n",
    "  - Visual, point-and-click interface.\n",
    "  - Avoids memorizing Git commands.\n",
    "  - Great for students and economists transitioning from Stata/R.\n",
    "  - Works seamlessly with **VS Code** and **Jupyter Notebooks**.\n",
    "\n",
    "- **Basic Workflow with GitHub Desktop**:\n",
    "  1. **Clone or Create a Repository**  \n",
    "     - Download an existing repo from GitHub or start a new one.\n",
    "  2. **Make Changes Locally**  \n",
    "     - Edit your code in VS Code or Jupyter.\n",
    "  3. **Stage & Commit Changes**  \n",
    "     - Use the Desktop app to write a message like *“Added income analysis script”*.\n",
    "  4. **Pull** (if collaborating)  \n",
    "     - Fetch updates from co-authors.\n",
    "  5. **Push**  \n",
    "     - Upload your commits to GitHub.\n",
    "\n",
    "- **Advantages**:\n",
    "  - Shows history of commits visually.\n",
    "  - Resolves conflicts with a guided interface.\n",
    "  - Tracks which files are modified before committing.\n",
    "\n",
    "---\n",
    "\n",
    "## 8. Git Workflow (with GitHub Desktop)\n",
    "\n",
    "1. **Clone repository** (download it to your computer).\n",
    "2. **Edit files** (in VS Code, Jupyter, etc.).\n",
    "3. **Stage changes** (GitHub Desktop highlights modified files).\n",
    "4. **Commit changes** with a message.\n",
    "5. **Pull changes** from GitHub to update your copy.\n",
    "6. **Push changes** to share your work.\n",
    "\n",
    "> 🔑 **Golden Rule**: Always **pull before you push** to prevent conflicts.\n",
    "\n",
    "---\n",
    "\n",
    "## 9. Typical Use Case for Economists\n",
    "- **Problem Set Distribution**: Instructor posts a repo → students clone → submit changes via pull request.  \n",
    "- **Replication Package**: Author uploads data + code → others clone/fork → replicate results.  \n",
    "- **Team Project**: Each member works on their own branch → merge changes into the main branch.  \n",
    "\n",
    "---\n",
    "\n",
    "✅ With Git, GitHub, and GitHub Desktop, you gain:\n",
    "- A **track record** of your work.\n",
    "- A **smoother collaboration** process.\n",
    "- A path toward **open, reproducible economics research**.\n"
   ]
  },
  {
   "cell_type": "markdown",
   "metadata": {},
   "source": []
  }
 ],
 "metadata": {
  "kernelspec": {
   "display_name": ".venv",
   "language": "python",
   "name": "python3"
  },
  "language_info": {
   "codemirror_mode": {
    "name": "ipython",
    "version": 3
   },
   "file_extension": ".py",
   "mimetype": "text/x-python",
   "name": "python",
   "nbconvert_exporter": "python",
   "pygments_lexer": "ipython3",
   "version": "3.13.1"
  }
 },
 "nbformat": 4,
 "nbformat_minor": 2
}
